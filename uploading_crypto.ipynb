{
 "cells": [
  {
   "cell_type": "code",
   "execution_count": 2,
   "id": "313d7539",
   "metadata": {},
   "outputs": [],
   "source": [
    "from google.cloud import storage\n",
    "import google.cloud.storage"
   ]
  },
  {
   "cell_type": "code",
   "execution_count": 4,
   "id": "645e64fb",
   "metadata": {},
   "outputs": [],
   "source": [
    "from google.oauth2 import service_account\n",
    "\n",
    "credentials = service_account.Credentials.from_service_account_file(\"civil-lambda-379706-87b5cd707c6d.json\")\n",
    "storage_client = storage.Client(credentials=credentials)"
   ]
  },
  {
   "cell_type": "code",
   "execution_count": 5,
   "id": "5db6e69f",
   "metadata": {},
   "outputs": [
    {
     "data": {
      "text/plain": [
       "<google.cloud.storage.client.Client at 0x25e50ccb948>"
      ]
     },
     "execution_count": 5,
     "metadata": {},
     "output_type": "execute_result"
    }
   ],
   "source": [
    "storage_client"
   ]
  },
  {
   "cell_type": "code",
   "execution_count": 6,
   "id": "9fdfbace",
   "metadata": {},
   "outputs": [],
   "source": [
    "bucket = storage_client.get_bucket(\"crypto-bucket67\")\n",
    "#Change argument to your bucket name"
   ]
  },
  {
   "cell_type": "code",
   "execution_count": 7,
   "id": "5c24141e",
   "metadata": {},
   "outputs": [],
   "source": [
    "import os\n",
    "filename = \"crypto_data.json\"\n",
    "PATH = os.path.join(os.getcwd(),filename)\n",
    "\n",
    "blob = bucket.blob(filename)\n",
    "blob.upload_from_filename(PATH)"
   ]
  },
  {
   "cell_type": "code",
   "execution_count": null,
   "id": "560b7960",
   "metadata": {},
   "outputs": [],
   "source": []
  }
 ],
 "metadata": {
  "kernelspec": {
   "display_name": "Python 3 (ipykernel)",
   "language": "python",
   "name": "python3"
  },
  "language_info": {
   "codemirror_mode": {
    "name": "ipython",
    "version": 3
   },
   "file_extension": ".py",
   "mimetype": "text/x-python",
   "name": "python",
   "nbconvert_exporter": "python",
   "pygments_lexer": "ipython3",
   "version": "3.7.11"
  }
 },
 "nbformat": 4,
 "nbformat_minor": 5
}
