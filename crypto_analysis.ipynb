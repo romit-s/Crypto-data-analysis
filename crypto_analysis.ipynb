{
 "cells": [
  {
   "cell_type": "code",
   "execution_count": 1,
   "id": "539e4ced",
   "metadata": {},
   "outputs": [],
   "source": [
    "import pandas as pd"
   ]
  },
  {
   "cell_type": "code",
   "execution_count": 2,
   "id": "efbec758",
   "metadata": {},
   "outputs": [],
   "source": [
    "df = pd.read_json(\"crypto_data.json\")"
   ]
  },
  {
   "cell_type": "code",
   "execution_count": 3,
   "id": "0ae23d35",
   "metadata": {},
   "outputs": [
    {
     "data": {
      "text/html": [
       "<div>\n",
       "<style scoped>\n",
       "    .dataframe tbody tr th:only-of-type {\n",
       "        vertical-align: middle;\n",
       "    }\n",
       "\n",
       "    .dataframe tbody tr th {\n",
       "        vertical-align: top;\n",
       "    }\n",
       "\n",
       "    .dataframe thead th {\n",
       "        text-align: right;\n",
       "    }\n",
       "</style>\n",
       "<table border=\"1\" class=\"dataframe\">\n",
       "  <thead>\n",
       "    <tr style=\"text-align: right;\">\n",
       "      <th></th>\n",
       "      <th>date</th>\n",
       "      <th>btc_open</th>\n",
       "      <th>btc_close</th>\n",
       "      <th>eth_open</th>\n",
       "      <th>eth_close</th>\n",
       "    </tr>\n",
       "  </thead>\n",
       "  <tbody>\n",
       "    <tr>\n",
       "      <th>0</th>\n",
       "      <td>2023-03-04</td>\n",
       "      <td>22355</td>\n",
       "      <td>22398</td>\n",
       "      <td>1652.17</td>\n",
       "      <td>1683.01</td>\n",
       "    </tr>\n",
       "    <tr>\n",
       "      <th>1</th>\n",
       "      <td>2023-03-03</td>\n",
       "      <td>23467</td>\n",
       "      <td>23467</td>\n",
       "      <td>1672.58</td>\n",
       "      <td>1700.53</td>\n",
       "    </tr>\n",
       "    <tr>\n",
       "      <th>2</th>\n",
       "      <td>2023-03-02</td>\n",
       "      <td>23639</td>\n",
       "      <td>23739</td>\n",
       "      <td>1673.95</td>\n",
       "      <td>1680.64</td>\n",
       "    </tr>\n",
       "    <tr>\n",
       "      <th>3</th>\n",
       "      <td>2023-03-01</td>\n",
       "      <td>23127</td>\n",
       "      <td>23868</td>\n",
       "      <td>1638.05</td>\n",
       "      <td>1661.90</td>\n",
       "    </tr>\n",
       "    <tr>\n",
       "      <th>4</th>\n",
       "      <td>2023-02-28</td>\n",
       "      <td>23495</td>\n",
       "      <td>23579</td>\n",
       "      <td>1621.52</td>\n",
       "      <td>1683.25</td>\n",
       "    </tr>\n",
       "  </tbody>\n",
       "</table>\n",
       "</div>"
      ],
      "text/plain": [
       "        date  btc_open  btc_close  eth_open  eth_close\n",
       "0 2023-03-04     22355      22398   1652.17    1683.01\n",
       "1 2023-03-03     23467      23467   1672.58    1700.53\n",
       "2 2023-03-02     23639      23739   1673.95    1680.64\n",
       "3 2023-03-01     23127      23868   1638.05    1661.90\n",
       "4 2023-02-28     23495      23579   1621.52    1683.25"
      ]
     },
     "execution_count": 3,
     "metadata": {},
     "output_type": "execute_result"
    }
   ],
   "source": [
    "df.head()"
   ]
  },
  {
   "cell_type": "markdown",
   "id": "c46506da",
   "metadata": {},
   "source": [
    "# Average of Ethereum\n"
   ]
  },
  {
   "cell_type": "code",
   "execution_count": 4,
   "id": "5607ab68",
   "metadata": {},
   "outputs": [
    {
     "data": {
      "text/plain": [
       "1653.872666666667"
      ]
     },
     "execution_count": 4,
     "metadata": {},
     "output_type": "execute_result"
    }
   ],
   "source": [
    "eth_mean = df.loc[:, 'eth_close'].mean()\n",
    "eth_mean"
   ]
  },
  {
   "cell_type": "markdown",
   "id": "5dc8fc88",
   "metadata": {},
   "source": [
    "# Average of Bitcoin"
   ]
  },
  {
   "cell_type": "code",
   "execution_count": 5,
   "id": "54058b8a",
   "metadata": {},
   "outputs": [
    {
     "data": {
      "text/plain": [
       "23635.866666666665"
      ]
     },
     "execution_count": 5,
     "metadata": {},
     "output_type": "execute_result"
    }
   ],
   "source": [
    "btc_mean = df.loc[:, 'btc_close'].mean()\n",
    "btc_mean"
   ]
  },
  {
   "cell_type": "markdown",
   "id": "1dce462f",
   "metadata": {},
   "source": [
    "# Correlation between btc and eth"
   ]
  },
  {
   "cell_type": "code",
   "execution_count": 6,
   "id": "eff076de",
   "metadata": {},
   "outputs": [
    {
     "data": {
      "text/plain": [
       "-0.030880691818013728"
      ]
     },
     "execution_count": 6,
     "metadata": {},
     "output_type": "execute_result"
    }
   ],
   "source": [
    "df['btc_close'].corr(df['eth_close'])"
   ]
  },
  {
   "cell_type": "markdown",
   "id": "c64565f6",
   "metadata": {},
   "source": [
    "# Analysis"
   ]
  },
  {
   "cell_type": "code",
   "execution_count": 7,
   "id": "6882fd20",
   "metadata": {},
   "outputs": [],
   "source": [
    "import matplotlib.pyplot as plt"
   ]
  },
  {
   "cell_type": "code",
   "execution_count": 8,
   "id": "f34060f4",
   "metadata": {},
   "outputs": [
    {
     "data": {
      "image/png": "[encoded data removed]",
      "text/plain": [
       "<Figure size 432x288 with 1 Axes>"
      ]
     },
     "metadata": {
      "needs_background": "light"
     },
     "output_type": "display_data"
    }
   ],
   "source": [
    "plt.plot(df['date'],df['btc_close'])\n",
    "plt.xlabel('Dates')\n",
    "plt.ylabel('Bitcoin Close')\n",
    "frame1 = plt.gca()\n",
    "frame1.axes.get_xaxis().set_visible(False)\n",
    "plt.show()"
   ]
  },
  {
   "cell_type": "code",
   "execution_count": 9,
   "id": "f8e76e05",
   "metadata": {},
   "outputs": [
    {
     "data": {
      "image/png": "[encoded data removed]",
      "text/plain": [
       "<Figure size 432x288 with 1 Axes>"
      ]
     },
     "metadata": {
      "needs_background": "light"
     },
     "output_type": "display_data"
    }
   ],
   "source": [
    "plt.plot(df['date'],df['eth_close'])\n",
    "plt.xlabel('Dates')\n",
    "plt.ylabel('Ethereum Close')\n",
    "frame1 = plt.gca()\n",
    "frame1.axes.get_xaxis().set_visible(False)\n",
    "plt.show()"
   ]
  },
  {
   "cell_type": "code",
   "execution_count": 10,
   "id": "1ead9be6",
   "metadata": {},
   "outputs": [],
   "source": [
    "import seaborn as sns"
   ]
  },
  {
   "cell_type": "code",
   "execution_count": 11,
   "id": "f96b5cfa",
   "metadata": {},
   "outputs": [
    {
     "name": "stderr",
     "output_type": "stream",
     "text": [
      "C:\\Users\\91702\\Anaconda3\\lib\\site-packages\\seaborn\\_decorators.py:43: FutureWarning: Pass the following variables as keyword args: x, y. From version 0.12, the only valid positional argument will be `data`, and passing other arguments without an explicit keyword will result in an error or misinterpretation.\n",
      "  FutureWarning\n"
     ]
    },
    {
     "data": {
      "text/plain": [
       "<AxesSubplot:xlabel='eth_close', ylabel='btc_close'>"
      ]
     },
     "execution_count": 11,
     "metadata": {},
     "output_type": "execute_result"
    },
    {
     "data": {
      "image/png": "[encoded data removed]",
      "text/plain": [
       "<Figure size 432x288 with 1 Axes>"
      ]
     },
     "metadata": {
      "needs_background": "light"
     },
     "output_type": "display_data"
    }
   ],
   "source": [
    "sns.regplot(df['eth_close'],df['btc_close'])"
   ]
  },
  {
   "cell_type": "markdown",
   "id": "9d410572",
   "metadata": {},
   "source": [
    "They both peaked around the same time between 12-02-2023 to 16-02-2023 but other than that there aren't any recognizable patterns between the value of Bitcoin and Ethereum for the last 30 days"
   ]
  },
  {
   "cell_type": "code",
   "execution_count": null,
   "id": "7d04ab8e",
   "metadata": {},
   "outputs": [],
   "source": []
  }
 ],
 "metadata": {
  "kernelspec": {
   "display_name": "Python 3 (ipykernel)",
   "language": "python",
   "name": "python3"
  },
  "language_info": {
   "codemirror_mode": {
    "name": "ipython",
    "version": 3
   },
   "file_extension": ".py",
   "mimetype": "text/x-python",
   "name": "python",
   "nbconvert_exporter": "python",
   "pygments_lexer": "ipython3",
   "version": "3.7.11"
  }
 },
 "nbformat": 4,
 "nbformat_minor": 5
}
